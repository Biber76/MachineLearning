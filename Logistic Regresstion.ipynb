{
 "cells": [
  {
   "attachments": {},
   "cell_type": "markdown",
   "metadata": {},
   "source": [
    "# Logistic Regression"
   ]
  },
  {
   "attachments": {},
   "cell_type": "markdown",
   "metadata": {},
   "source": [
    "## Distribution of the sigmoid"
   ]
  },
  {
   "cell_type": "code",
   "execution_count": 2,
   "metadata": {},
   "outputs": [
    {
     "name": "stderr",
     "output_type": "stream",
     "text": [
      "C:\\Users\\Martin Biber\\AppData\\Local\\Temp\\ipykernel_8476\\1217233205.py:19: UserWarning: Matplotlib is currently using module://matplotlib_inline.backend_inline, which is a non-GUI backend, so cannot show the figure.\n",
      "  fig.show()\n"
     ]
    },
    {
     "data": {
      "image/png": "[encoded data removed]",
      "text/plain": [
       "<Figure size 1200x600 with 1 Axes>"
      ]
     },
     "metadata": {},
     "output_type": "display_data"
    }
   ],
   "source": [
    "import matplotlib.pyplot as plt\n",
    "import numpy as np\n",
    "import pandas as pd\n",
    "%matplotlib inline  \n",
    "fig, ax = plt.subplots(1, 1, figsize=(12, 6))\n",
    "\n",
    "theta = np.arange(-10, 10, 0.05)\n",
    "y = 1 / (1 + np.exp(-1 * theta))\n",
    "\n",
    "df_log = pd.DataFrame({'theta': theta,'y': y})\n",
    "df_log.plot(\n",
    "    title='Logistic Function', \n",
    "    kind='scatter', x='theta', y='y', \n",
    "    ax=ax\n",
    ")\n",
    "\n",
    "ax.set_yticks(np.arange(0, 1.25, step=0.5))\n",
    "\n",
    "fig.show()"
   ]
  },
  {
   "attachments": {},
   "cell_type": "markdown",
   "metadata": {},
   "source": [
    "## Iris Data Set"
   ]
  },
  {
   "cell_type": "code",
   "execution_count": 8,
   "metadata": {},
   "outputs": [
    {
     "data": {
      "text/html": [
       "<div>\n",
       "<style scoped>\n",
       "    .dataframe tbody tr th:only-of-type {\n",
       "        vertical-align: middle;\n",
       "    }\n",
       "\n",
       "    .dataframe tbody tr th {\n",
       "        vertical-align: top;\n",
       "    }\n",
       "\n",
       "    .dataframe thead th {\n",
       "        text-align: right;\n",
       "    }\n",
       "</style>\n",
       "<table border=\"1\" class=\"dataframe\">\n",
       "  <thead>\n",
       "    <tr style=\"text-align: right;\">\n",
       "      <th></th>\n",
       "      <th>sepal length (cm)</th>\n",
       "      <th>sepal width (cm)</th>\n",
       "      <th>petal length (cm)</th>\n",
       "      <th>petal width (cm)</th>\n",
       "      <th>target</th>\n",
       "    </tr>\n",
       "  </thead>\n",
       "  <tbody>\n",
       "    <tr>\n",
       "      <th>65</th>\n",
       "      <td>6.7</td>\n",
       "      <td>3.1</td>\n",
       "      <td>4.4</td>\n",
       "      <td>1.4</td>\n",
       "      <td>1</td>\n",
       "    </tr>\n",
       "    <tr>\n",
       "      <th>87</th>\n",
       "      <td>6.3</td>\n",
       "      <td>2.3</td>\n",
       "      <td>4.4</td>\n",
       "      <td>1.3</td>\n",
       "      <td>1</td>\n",
       "    </tr>\n",
       "    <tr>\n",
       "      <th>66</th>\n",
       "      <td>5.6</td>\n",
       "      <td>3.0</td>\n",
       "      <td>4.5</td>\n",
       "      <td>1.5</td>\n",
       "      <td>1</td>\n",
       "    </tr>\n",
       "    <tr>\n",
       "      <th>63</th>\n",
       "      <td>6.1</td>\n",
       "      <td>2.9</td>\n",
       "      <td>4.7</td>\n",
       "      <td>1.4</td>\n",
       "      <td>1</td>\n",
       "    </tr>\n",
       "    <tr>\n",
       "      <th>97</th>\n",
       "      <td>6.2</td>\n",
       "      <td>2.9</td>\n",
       "      <td>4.3</td>\n",
       "      <td>1.3</td>\n",
       "      <td>1</td>\n",
       "    </tr>\n",
       "  </tbody>\n",
       "</table>\n",
       "</div>"
      ],
      "text/plain": [
       "    sepal length (cm)  sepal width (cm)  petal length (cm)  petal width (cm)  \\\n",
       "65                6.7               3.1                4.4               1.4   \n",
       "87                6.3               2.3                4.4               1.3   \n",
       "66                5.6               3.0                4.5               1.5   \n",
       "63                6.1               2.9                4.7               1.4   \n",
       "97                6.2               2.9                4.3               1.3   \n",
       "\n",
       "    target  \n",
       "65       1  \n",
       "87       1  \n",
       "66       1  \n",
       "63       1  \n",
       "97       1  "
      ]
     },
     "execution_count": 8,
     "metadata": {},
     "output_type": "execute_result"
    }
   ],
   "source": [
    "from sklearn import datasets\n",
    "iris = datasets.load_iris()\n",
    "df = pd.DataFrame(iris.data, columns=iris.feature_names)\n",
    "df['target'] = pd.Series(iris.target)\n",
    "df.sample(50).head()"
   ]
  },
  {
   "cell_type": "code",
   "execution_count": 9,
   "metadata": {},
   "outputs": [],
   "source": [
    "from sklearn.model_selection import train_test_split\n",
    "\n",
    "df_train, df_test = train_test_split(df, test_size=0.3, random_state=22)"
   ]
  },
  {
   "cell_type": "code",
   "execution_count": 10,
   "metadata": {},
   "outputs": [],
   "source": [
    "x_train = df_train[iris.feature_names]\n",
    "x_test  = df_test[iris.feature_names]\n",
    "\n",
    "y_train = df_train['target']\n",
    "y_test  = df_test['target']"
   ]
  },
  {
   "attachments": {},
   "cell_type": "markdown",
   "metadata": {},
   "source": [
    "### Logistic Regression on Iris Dataset (multinomial)"
   ]
  },
  {
   "cell_type": "code",
   "execution_count": 12,
   "metadata": {},
   "outputs": [
    {
     "data": {
      "text/plain": [
       "{'fit_time': array([0.03401685, 0.01999831, 0.01597881, 0.02199864, 0.01798201,\n",
       "        0.02101731]),\n",
       " 'score_time': array([0.0010004 , 0.0010016 , 0.00202036, 0.00199986, 0.00200248,\n",
       "        0.00099993]),\n",
       " 'test_accuracy': array([0.96, 1.  , 0.96, 0.92, 0.96, 1.  ])}"
      ]
     },
     "execution_count": 12,
     "metadata": {},
     "output_type": "execute_result"
    }
   ],
   "source": [
    "from sklearn.linear_model import LogisticRegression\n",
    "from sklearn.model_selection import cross_validate\n",
    "\n",
    "\n",
    "num_folds = 6\n",
    "\n",
    "clf = LogisticRegression(solver='lbfgs', multi_class='multinomial', max_iter=1000)\n",
    "\n",
    "accuracy_scores = cross_validate(clf, df[iris.feature_names], df['target'], cv=num_folds, scoring=['accuracy'])\n",
    "accuracy_scores"
   ]
  },
  {
   "cell_type": "code",
   "execution_count": 16,
   "metadata": {},
   "outputs": [
    {
     "name": "stdout",
     "output_type": "stream",
     "text": [
      "The accuracy mean is 0.97, the standard deviation is 0.03 and the standard error is 0.01\n"
     ]
    }
   ],
   "source": [
    "accuracy_mean = pd.Series(accuracy_scores['test_accuracy']).mean()\n",
    "accuracy_std = pd.Series(accuracy_scores['test_accuracy']).std()\n",
    "accuracy_sterror = accuracy_std / np.sqrt(num_folds)\n",
    "print(f'The accuracy mean for LogisticRegression is {accuracy_mean:.2f}, the standard deviation is {accuracy_std:.2f} and the standard error is {accuracy_sterror:.2f}')"
   ]
  },
  {
   "cell_type": "code",
   "execution_count": 22,
   "metadata": {},
   "outputs": [
    {
     "name": "stdout",
     "output_type": "stream",
     "text": [
      "Logistic Regression: Accuracy (6-fold, 95% Confidence Intervall): \n",
      "0.94 - 0.99\n"
     ]
    }
   ],
   "source": [
    "print(f'Logistic Regression: Accuracy ({num_folds}-fold, 95% Confidence Intervall): \\n{accuracy_mean - 1.96 * accuracy_sterror:.2f} - {accuracy_mean + 1.96 * accuracy_sterror:.2f}')"
   ]
  },
  {
   "cell_type": "code",
   "execution_count": 23,
   "metadata": {},
   "outputs": [
    {
     "data": {
      "text/html": [
       "<style>#sk-container-id-1 {color: black;background-color: white;}#sk-container-id-1 pre{padding: 0;}#sk-container-id-1 div.sk-toggleable {background-color: white;}#sk-container-id-1 label.sk-toggleable__label {cursor: pointer;display: block;width: 100%;margin-bottom: 0;padding: 0.3em;box-sizing: border-box;text-align: center;}#sk-container-id-1 label.sk-toggleable__label-arrow:before {content: \"▸\";float: left;margin-right: 0.25em;color: #696969;}#sk-container-id-1 label.sk-toggleable__label-arrow:hover:before {color: black;}#sk-container-id-1 div.sk-estimator:hover label.sk-toggleable__label-arrow:before {color: black;}#sk-container-id-1 div.sk-toggleable__content {max-height: 0;max-width: 0;overflow: hidden;text-align: left;background-color: #f0f8ff;}#sk-container-id-1 div.sk-toggleable__content pre {margin: 0.2em;color: black;border-radius: 0.25em;background-color: #f0f8ff;}#sk-container-id-1 input.sk-toggleable__control:checked~div.sk-toggleable__content {max-height: 200px;max-width: 100%;overflow: auto;}#sk-container-id-1 input.sk-toggleable__control:checked~label.sk-toggleable__label-arrow:before {content: \"▾\";}#sk-container-id-1 div.sk-estimator input.sk-toggleable__control:checked~label.sk-toggleable__label {background-color: #d4ebff;}#sk-container-id-1 div.sk-label input.sk-toggleable__control:checked~label.sk-toggleable__label {background-color: #d4ebff;}#sk-container-id-1 input.sk-hidden--visually {border: 0;clip: rect(1px 1px 1px 1px);clip: rect(1px, 1px, 1px, 1px);height: 1px;margin: -1px;overflow: hidden;padding: 0;position: absolute;width: 1px;}#sk-container-id-1 div.sk-estimator {font-family: monospace;background-color: #f0f8ff;border: 1px dotted black;border-radius: 0.25em;box-sizing: border-box;margin-bottom: 0.5em;}#sk-container-id-1 div.sk-estimator:hover {background-color: #d4ebff;}#sk-container-id-1 div.sk-parallel-item::after {content: \"\";width: 100%;border-bottom: 1px solid gray;flex-grow: 1;}#sk-container-id-1 div.sk-label:hover label.sk-toggleable__label {background-color: #d4ebff;}#sk-container-id-1 div.sk-serial::before {content: \"\";position: absolute;border-left: 1px solid gray;box-sizing: border-box;top: 0;bottom: 0;left: 50%;z-index: 0;}#sk-container-id-1 div.sk-serial {display: flex;flex-direction: column;align-items: center;background-color: white;padding-right: 0.2em;padding-left: 0.2em;position: relative;}#sk-container-id-1 div.sk-item {position: relative;z-index: 1;}#sk-container-id-1 div.sk-parallel {display: flex;align-items: stretch;justify-content: center;background-color: white;position: relative;}#sk-container-id-1 div.sk-item::before, #sk-container-id-1 div.sk-parallel-item::before {content: \"\";position: absolute;border-left: 1px solid gray;box-sizing: border-box;top: 0;bottom: 0;left: 50%;z-index: -1;}#sk-container-id-1 div.sk-parallel-item {display: flex;flex-direction: column;z-index: 1;position: relative;background-color: white;}#sk-container-id-1 div.sk-parallel-item:first-child::after {align-self: flex-end;width: 50%;}#sk-container-id-1 div.sk-parallel-item:last-child::after {align-self: flex-start;width: 50%;}#sk-container-id-1 div.sk-parallel-item:only-child::after {width: 0;}#sk-container-id-1 div.sk-dashed-wrapped {border: 1px dashed gray;margin: 0 0.4em 0.5em 0.4em;box-sizing: border-box;padding-bottom: 0.4em;background-color: white;}#sk-container-id-1 div.sk-label label {font-family: monospace;font-weight: bold;display: inline-block;line-height: 1.2em;}#sk-container-id-1 div.sk-label-container {text-align: center;}#sk-container-id-1 div.sk-container {/* jupyter's `normalize.less` sets `[hidden] { display: none; }` but bootstrap.min.css set `[hidden] { display: none !important; }` so we also need the `!important` here to be able to override the default hidden behavior on the sphinx rendered scikit-learn.org. See: https://github.com/scikit-learn/scikit-learn/issues/21755 */display: inline-block !important;position: relative;}#sk-container-id-1 div.sk-text-repr-fallback {display: none;}</style><div id=\"sk-container-id-1\" class=\"sk-top-container\"><div class=\"sk-text-repr-fallback\"><pre>LogisticRegression(max_iter=1000, multi_class=&#x27;multinomial&#x27;)</pre><b>In a Jupyter environment, please rerun this cell to show the HTML representation or trust the notebook. <br />On GitHub, the HTML representation is unable to render, please try loading this page with nbviewer.org.</b></div><div class=\"sk-container\" hidden><div class=\"sk-item\"><div class=\"sk-estimator sk-toggleable\"><input class=\"sk-toggleable__control sk-hidden--visually\" id=\"sk-estimator-id-1\" type=\"checkbox\" checked><label for=\"sk-estimator-id-1\" class=\"sk-toggleable__label sk-toggleable__label-arrow\">LogisticRegression</label><div class=\"sk-toggleable__content\"><pre>LogisticRegression(max_iter=1000, multi_class=&#x27;multinomial&#x27;)</pre></div></div></div></div></div>"
      ],
      "text/plain": [
       "LogisticRegression(max_iter=1000, multi_class='multinomial')"
      ]
     },
     "execution_count": 23,
     "metadata": {},
     "output_type": "execute_result"
    }
   ],
   "source": [
    "clf.fit(x_train, y_train)"
   ]
  },
  {
   "cell_type": "code",
   "execution_count": 26,
   "metadata": {},
   "outputs": [
    {
     "data": {
      "text/plain": [
       "array([[-0.40308314,  0.85448224, -2.24630129, -0.97474978],\n",
       "       [ 0.44781747, -0.520434  , -0.16675216, -0.67984121],\n",
       "       [-0.04473434, -0.33404824,  2.41305345,  1.65459099]])"
      ]
     },
     "execution_count": 26,
     "metadata": {},
     "output_type": "execute_result"
    }
   ],
   "source": [
    "clf.coef_"
   ]
  },
  {
   "cell_type": "code",
   "execution_count": 33,
   "metadata": {},
   "outputs": [
    {
     "data": {
      "text/html": [
       "<div>\n",
       "<style scoped>\n",
       "    .dataframe tbody tr th:only-of-type {\n",
       "        vertical-align: middle;\n",
       "    }\n",
       "\n",
       "    .dataframe tbody tr th {\n",
       "        vertical-align: top;\n",
       "    }\n",
       "\n",
       "    .dataframe thead th {\n",
       "        text-align: right;\n",
       "    }\n",
       "</style>\n",
       "<table border=\"1\" class=\"dataframe\">\n",
       "  <thead>\n",
       "    <tr style=\"text-align: right;\">\n",
       "      <th></th>\n",
       "      <th>sepal length (cm)</th>\n",
       "      <th>sepal width (cm)</th>\n",
       "      <th>petal length (cm)</th>\n",
       "      <th>petal width (cm)</th>\n",
       "      <th>intercept</th>\n",
       "    </tr>\n",
       "  </thead>\n",
       "  <tbody>\n",
       "    <tr>\n",
       "      <th>Coef [Class0]</th>\n",
       "      <td>-0.403083</td>\n",
       "      <td>0.854482</td>\n",
       "      <td>-2.246301</td>\n",
       "      <td>-0.974750</td>\n",
       "      <td>8.868805</td>\n",
       "    </tr>\n",
       "    <tr>\n",
       "      <th>Coef [Class1]</th>\n",
       "      <td>0.447817</td>\n",
       "      <td>-0.520434</td>\n",
       "      <td>-0.166752</td>\n",
       "      <td>-0.679841</td>\n",
       "      <td>2.571955</td>\n",
       "    </tr>\n",
       "    <tr>\n",
       "      <th>Coef [Class2]</th>\n",
       "      <td>-0.044734</td>\n",
       "      <td>-0.334048</td>\n",
       "      <td>2.413053</td>\n",
       "      <td>1.654591</td>\n",
       "      <td>-11.440760</td>\n",
       "    </tr>\n",
       "  </tbody>\n",
       "</table>\n",
       "</div>"
      ],
      "text/plain": [
       "               sepal length (cm)  sepal width (cm)  petal length (cm)  \\\n",
       "Coef [Class0]          -0.403083          0.854482          -2.246301   \n",
       "Coef [Class1]           0.447817         -0.520434          -0.166752   \n",
       "Coef [Class2]          -0.044734         -0.334048           2.413053   \n",
       "\n",
       "               petal width (cm)  intercept  \n",
       "Coef [Class0]         -0.974750   8.868805  \n",
       "Coef [Class1]         -0.679841   2.571955  \n",
       "Coef [Class2]          1.654591 -11.440760  "
      ]
     },
     "execution_count": 33,
     "metadata": {},
     "output_type": "execute_result"
    }
   ],
   "source": [
    "df_coef = pd.DataFrame(clf.coef_, columns=iris.feature_names, index=[f'Coef [Class{class_id}]' for class_id in range(clf.coef_.shape[0])])\n",
    "df_coef['intercept'] = clf.intercept_\n",
    "df_coef"
   ]
  },
  {
   "attachments": {},
   "cell_type": "markdown",
   "metadata": {},
   "source": [
    "### Decision Tree Classification on Iris Dataset"
   ]
  },
  {
   "cell_type": "code",
   "execution_count": 34,
   "metadata": {},
   "outputs": [
    {
     "data": {
      "text/plain": [
       "{'fit_time': array([0.00300026, 0.00099897, 0.00199628, 0.00200033, 0.00201988,\n",
       "        0.00201797]),\n",
       " 'score_time': array([0.0010004 , 0.00200462, 0.0010035 , 0.00199628, 0.00098228,\n",
       "        0.00098062]),\n",
       " 'test_accuracy': array([0.96, 1.  , 0.92, 0.92, 0.88, 1.  ])}"
      ]
     },
     "execution_count": 34,
     "metadata": {},
     "output_type": "execute_result"
    }
   ],
   "source": [
    "from sklearn.tree import DecisionTreeClassifier\n",
    "from sklearn.model_selection import cross_validate\n",
    "\n",
    "num_folds = 6\n",
    "\n",
    "clf = DecisionTreeClassifier(max_depth=3)\n",
    "accuracy_scores = cross_validate(clf, df[iris.feature_names], df['target'], cv=num_folds, scoring=['accuracy'])\n",
    "accuracy_scores"
   ]
  },
  {
   "cell_type": "code",
   "execution_count": 35,
   "metadata": {},
   "outputs": [
    {
     "name": "stdout",
     "output_type": "stream",
     "text": [
      "The accuracy mean for DecisionTreeClassification is 0.95, the standard deviation is 0.05 and the standard error is 0.02\n"
     ]
    }
   ],
   "source": [
    "accuracy_mean = pd.Series(accuracy_scores['test_accuracy']).mean()\n",
    "accuracy_std = pd.Series(accuracy_scores['test_accuracy']).std()\n",
    "accuracy_sterror = accuracy_std / np.sqrt(num_folds)\n",
    "print(f'The accuracy mean for DecisionTreeClassification is {accuracy_mean:.2f}, the standard deviation is {accuracy_std:.2f} and the standard error is {accuracy_sterror:.2f}')"
   ]
  },
  {
   "cell_type": "code",
   "execution_count": 36,
   "metadata": {},
   "outputs": [
    {
     "name": "stdout",
     "output_type": "stream",
     "text": [
      "DecisionTreeClassifier: Accuracy (6-fold, 95% Confidence Intervall): \n",
      "0.91 - 0.99\n"
     ]
    }
   ],
   "source": [
    "print(f'DecisionTreeClassifier: Accuracy ({num_folds}-fold, 95% Confidence Intervall): \\n{accuracy_mean - 1.96 * accuracy_sterror:.2f} - {accuracy_mean + 1.96 * accuracy_sterror:.2f}')"
   ]
  },
  {
   "cell_type": "code",
   "execution_count": 37,
   "metadata": {},
   "outputs": [],
   "source": [
    "# Function to Plot the Decision Boundaries (ML book: Hands-on machine learning with scikit-learn and scientific python toolkits)\n",
    "\n",
    "def plot_decision_boundary(clf, x, y, ax, title):\n",
    "    \n",
    "    cmap='Paired_r'\n",
    "    \n",
    "    feature_names = x.columns\n",
    "    x, y = x.values, y.values\n",
    "    \n",
    "    x_min, x_max = x[:,0].min(), x[:,0].max()\n",
    "    y_min, y_max = x[:,1].min(), x[:,1].max()\n",
    "    \n",
    "    step = 0.02\n",
    "    \n",
    "    xx, yy = np.meshgrid(\n",
    "        np.arange(x_min, x_max, step),\n",
    "        np.arange(y_min, y_max, step)\n",
    "    )\n",
    "    Z = clf.predict(np.c_[xx.ravel(), yy.ravel()])\n",
    "    Z = Z.reshape(xx.shape)\n",
    "\n",
    "    ax.contourf(xx, yy, Z, cmap=cmap, alpha=0.25)\n",
    "    ax.contour(xx, yy, Z, colors='k', linewidths=0.7)\n",
    "    ax.scatter(x[:,0], x[:,1], c=y, edgecolors='k')\n",
    "    ax.set_title(title)\n",
    "    ax.set_xlabel(feature_names[0])\n",
    "    ax.set_ylabel(feature_names[1])"
   ]
  },
  {
   "cell_type": "code",
   "execution_count": 38,
   "metadata": {},
   "outputs": [],
   "source": [
    "from sklearn.model_selection import train_test_split\n",
    "\n",
    "df_train, df_test = train_test_split(df, test_size=0.3, random_state=22)\n",
    "\n",
    "x_train = df_test[iris.feature_names]\n",
    "x_test  = df_test[iris.feature_names]\n",
    "\n",
    "y_train = df_train['target']\n",
    "y_test  = df_test['target']"
   ]
  },
  {
   "cell_type": "code",
   "execution_count": 39,
   "metadata": {},
   "outputs": [
    {
     "name": "stderr",
     "output_type": "stream",
     "text": [
      "c:\\Users\\Martin Biber\\Dropbox\\pythonvenv\\DataScience\\Lib\\site-packages\\sklearn\\base.py:420: UserWarning: X does not have valid feature names, but LogisticRegression was fitted with feature names\n",
      "  warnings.warn(\n",
      "c:\\Users\\Martin Biber\\Dropbox\\pythonvenv\\DataScience\\Lib\\site-packages\\sklearn\\base.py:420: UserWarning: X does not have valid feature names, but DecisionTreeClassifier was fitted with feature names\n",
      "  warnings.warn(\n",
      "C:\\Users\\Martin Biber\\AppData\\Local\\Temp\\ipykernel_8476\\1322826119.py:30: UserWarning: Matplotlib is currently using module://matplotlib_inline.backend_inline, which is a non-GUI backend, so cannot show the figure.\n",
      "  fig.show()\n"
     ]
    },
    {
     "data": {
      "image/png": "[encoded data removed]",
      "text/plain": [
       "<Figure size 1200x600 with 2 Axes>"
      ]
     },
     "metadata": {},
     "output_type": "display_data"
    }
   ],
   "source": [
    "from sklearn.metrics import accuracy_score\n",
    "    \n",
    "fig, axs = plt.subplots(1, 2, figsize=(12, 6))\n",
    "\n",
    "two_features = ['petal width (cm)', 'petal length (cm)']\n",
    "\n",
    "\n",
    "clf_lr = LogisticRegression()\n",
    "clf_lr.fit(df_train[two_features], df_train['target'])\n",
    "accuracy = accuracy_score(\n",
    "    df_test['target'], \n",
    "    clf_lr.predict(df_test[two_features])\n",
    ")\n",
    "plot_decision_boundary(\n",
    "    clf_lr, df_test[two_features], df_test['target'], ax=axs[0], \n",
    "    title=f'Logistic Regression Classifier\\nAccuracy: {accuracy:.2%}'\n",
    ")\n",
    "\n",
    "clf_dt = DecisionTreeClassifier(max_depth=3)\n",
    "clf_dt.fit(df_train[two_features], df_train['target'])\n",
    "accuracy = accuracy_score(\n",
    "    df_test['target'], \n",
    "    clf_dt.predict(df_test[two_features])\n",
    ")\n",
    "plot_decision_boundary(\n",
    "    clf_dt, df_test[two_features], df_test['target'], ax=axs[1], \n",
    "    title=f'Decision Tree Classifier\\nAccuracy: {accuracy:.2%}'\n",
    ")\n",
    "\n",
    "fig.show()"
   ]
  },
  {
   "cell_type": "code",
   "execution_count": 40,
   "metadata": {},
   "outputs": [
    {
     "name": "stdout",
     "output_type": "stream",
     "text": [
      "Class 0 Boundary: 1e+01 - 1.1 * petal width (cm) - 2.5 * petal length (cm)\n",
      "Class 1 Boundary: 2.7 - 0.66 * petal width (cm) + 0.088 * petal length (cm)\n",
      "Class 2 Boundary: -1.3e+01 + 1.7 * petal width (cm) + 2.4 * petal length (cm)\n"
     ]
    }
   ],
   "source": [
    "coef_sign = lambda c: '+' if c >= 0 else '-'\n",
    "\n",
    "for i, coef_pair in enumerate(clf_lr.coef_):\n",
    "    print(\n",
    "        'Class {class_id} Boundary: {intercept} {coef0} {coef1}'.format(\n",
    "            class_id=i,\n",
    "            intercept=f'{clf_lr.intercept_[i]:.2}',\n",
    "            coef0=f'{coef_sign(coef_pair[0])} {abs(coef_pair[0]):.2} * {two_features[0]}',\n",
    "            coef1=f'{coef_sign(coef_pair[1])} {abs(coef_pair[1]):.2} * {two_features[1]}',\n",
    "        )\n",
    "    )"
   ]
  },
  {
   "cell_type": "code",
   "execution_count": null,
   "metadata": {},
   "outputs": [],
   "source": []
  }
 ],
 "metadata": {
  "kernelspec": {
   "display_name": "DataScience",
   "language": "python",
   "name": "python3"
  },
  "language_info": {
   "codemirror_mode": {
    "name": "ipython",
    "version": 3
   },
   "file_extension": ".py",
   "mimetype": "text/x-python",
   "name": "python",
   "nbconvert_exporter": "python",
   "pygments_lexer": "ipython3",
   "version": "3.11.2"
  },
  "orig_nbformat": 4
 },
 "nbformat": 4,
 "nbformat_minor": 2
}

{
 "cells": [
  {
   "attachments": {},
   "cell_type": "markdown",
   "metadata": {},
   "source": [
    "# Advanced Feature Selection"
   ]
  },
  {
   "attachments": {},
   "cell_type": "markdown",
   "metadata": {},
   "source": [
    "https://www.kdnuggets.com/2023/06/advanced-feature-selection-techniques-machine-learning-models.html"
   ]
  },
  {
   "attachments": {},
   "cell_type": "markdown",
   "metadata": {},
   "source": [
    "## Filter based"
   ]
  },
  {
   "attachments": {},
   "cell_type": "markdown",
   "metadata": {},
   "source": [
    "Information Gain"
   ]
  },
  {
   "cell_type": "code",
   "execution_count": 2,
   "metadata": {},
   "outputs": [],
   "source": [
    "import numpy as np\n",
    "import matplotlib.pyplot as plt\n",
    "import pandas as pd\n",
    "from sklearn.datasets import load_diabetes\n",
    "from sklearn.feature_selection import mutual_info_regression\n",
    "\n",
    "# Load the diabetes dataset\n",
    "data = load_diabetes()\n",
    "\n",
    "# Split the dataset into features and target\n",
    "X = data.data\n",
    "y = data.target"
   ]
  },
  {
   "cell_type": "code",
   "execution_count": 24,
   "metadata": {},
   "outputs": [
    {
     "name": "stdout",
     "output_type": "stream",
     "text": [
      "(442, 10)\n",
      "(442,)\n"
     ]
    },
    {
     "data": {
      "text/plain": [
       "array([[ 3.80759064e-02,  5.06801187e-02,  6.16962065e-02, ...,\n",
       "         1.99074862e-02, -1.76461252e-02,  1.51000000e+02],\n",
       "       [-1.88201653e-03, -4.46416365e-02, -5.14740612e-02, ...,\n",
       "        -6.83315471e-02, -9.22040496e-02,  7.50000000e+01],\n",
       "       [ 8.52989063e-02,  5.06801187e-02,  4.44512133e-02, ...,\n",
       "         2.86130929e-03, -2.59303390e-02,  1.41000000e+02],\n",
       "       ...,\n",
       "       [ 4.17084449e-02,  5.06801187e-02, -1.59062628e-02, ...,\n",
       "        -4.68825342e-02,  1.54907302e-02,  1.32000000e+02],\n",
       "       [-4.54724779e-02, -4.46416365e-02,  3.90621530e-02, ...,\n",
       "         4.45287288e-02, -2.59303390e-02,  2.20000000e+02],\n",
       "       [-4.54724779e-02, -4.46416365e-02, -7.30303027e-02, ...,\n",
       "        -4.22151394e-03,  3.06440941e-03,  5.70000000e+01]])"
      ]
     },
     "execution_count": 24,
     "metadata": {},
     "output_type": "execute_result"
    }
   ],
   "source": [
    "print(X.shape)\n",
    "print(y.shape)\n",
    "X_stacked = np.hstack((X, y.reshape(-1,1)))\n",
    "X_stacked"
   ]
  },
  {
   "cell_type": "code",
   "execution_count": 25,
   "metadata": {},
   "outputs": [
    {
     "data": {
      "text/plain": [
       "['age', 'sex', 'bmi', 'bp', 's1', 's2', 's3', 's4', 's5', 's6', 'target']"
      ]
     },
     "execution_count": 25,
     "metadata": {},
     "output_type": "execute_result"
    }
   ],
   "source": [
    "columns_df = data.feature_names + ['target']\n",
    "columns_df"
   ]
  },
  {
   "cell_type": "code",
   "execution_count": 27,
   "metadata": {},
   "outputs": [
    {
     "data": {
      "text/html": [
       "<div>\n",
       "<style scoped>\n",
       "    .dataframe tbody tr th:only-of-type {\n",
       "        vertical-align: middle;\n",
       "    }\n",
       "\n",
       "    .dataframe tbody tr th {\n",
       "        vertical-align: top;\n",
       "    }\n",
       "\n",
       "    .dataframe thead th {\n",
       "        text-align: right;\n",
       "    }\n",
       "</style>\n",
       "<table border=\"1\" class=\"dataframe\">\n",
       "  <thead>\n",
       "    <tr style=\"text-align: right;\">\n",
       "      <th></th>\n",
       "      <th>age</th>\n",
       "      <th>sex</th>\n",
       "      <th>bmi</th>\n",
       "      <th>bp</th>\n",
       "      <th>s1</th>\n",
       "      <th>s2</th>\n",
       "      <th>s3</th>\n",
       "      <th>s4</th>\n",
       "      <th>s5</th>\n",
       "      <th>s6</th>\n",
       "      <th>target</th>\n",
       "    </tr>\n",
       "  </thead>\n",
       "  <tbody>\n",
       "    <tr>\n",
       "      <th>0</th>\n",
       "      <td>0.038076</td>\n",
       "      <td>0.050680</td>\n",
       "      <td>0.061696</td>\n",
       "      <td>0.021872</td>\n",
       "      <td>-0.044223</td>\n",
       "      <td>-0.034821</td>\n",
       "      <td>-0.043401</td>\n",
       "      <td>-0.002592</td>\n",
       "      <td>0.019907</td>\n",
       "      <td>-0.017646</td>\n",
       "      <td>151.0</td>\n",
       "    </tr>\n",
       "    <tr>\n",
       "      <th>1</th>\n",
       "      <td>-0.001882</td>\n",
       "      <td>-0.044642</td>\n",
       "      <td>-0.051474</td>\n",
       "      <td>-0.026328</td>\n",
       "      <td>-0.008449</td>\n",
       "      <td>-0.019163</td>\n",
       "      <td>0.074412</td>\n",
       "      <td>-0.039493</td>\n",
       "      <td>-0.068332</td>\n",
       "      <td>-0.092204</td>\n",
       "      <td>75.0</td>\n",
       "    </tr>\n",
       "    <tr>\n",
       "      <th>2</th>\n",
       "      <td>0.085299</td>\n",
       "      <td>0.050680</td>\n",
       "      <td>0.044451</td>\n",
       "      <td>-0.005670</td>\n",
       "      <td>-0.045599</td>\n",
       "      <td>-0.034194</td>\n",
       "      <td>-0.032356</td>\n",
       "      <td>-0.002592</td>\n",
       "      <td>0.002861</td>\n",
       "      <td>-0.025930</td>\n",
       "      <td>141.0</td>\n",
       "    </tr>\n",
       "    <tr>\n",
       "      <th>3</th>\n",
       "      <td>-0.089063</td>\n",
       "      <td>-0.044642</td>\n",
       "      <td>-0.011595</td>\n",
       "      <td>-0.036656</td>\n",
       "      <td>0.012191</td>\n",
       "      <td>0.024991</td>\n",
       "      <td>-0.036038</td>\n",
       "      <td>0.034309</td>\n",
       "      <td>0.022688</td>\n",
       "      <td>-0.009362</td>\n",
       "      <td>206.0</td>\n",
       "    </tr>\n",
       "    <tr>\n",
       "      <th>4</th>\n",
       "      <td>0.005383</td>\n",
       "      <td>-0.044642</td>\n",
       "      <td>-0.036385</td>\n",
       "      <td>0.021872</td>\n",
       "      <td>0.003935</td>\n",
       "      <td>0.015596</td>\n",
       "      <td>0.008142</td>\n",
       "      <td>-0.002592</td>\n",
       "      <td>-0.031988</td>\n",
       "      <td>-0.046641</td>\n",
       "      <td>135.0</td>\n",
       "    </tr>\n",
       "  </tbody>\n",
       "</table>\n",
       "</div>"
      ],
      "text/plain": [
       "        age       sex       bmi        bp        s1        s2        s3  \\\n",
       "0  0.038076  0.050680  0.061696  0.021872 -0.044223 -0.034821 -0.043401   \n",
       "1 -0.001882 -0.044642 -0.051474 -0.026328 -0.008449 -0.019163  0.074412   \n",
       "2  0.085299  0.050680  0.044451 -0.005670 -0.045599 -0.034194 -0.032356   \n",
       "3 -0.089063 -0.044642 -0.011595 -0.036656  0.012191  0.024991 -0.036038   \n",
       "4  0.005383 -0.044642 -0.036385  0.021872  0.003935  0.015596  0.008142   \n",
       "\n",
       "         s4        s5        s6  target  \n",
       "0 -0.002592  0.019907 -0.017646   151.0  \n",
       "1 -0.039493 -0.068332 -0.092204    75.0  \n",
       "2 -0.002592  0.002861 -0.025930   141.0  \n",
       "3  0.034309  0.022688 -0.009362   206.0  \n",
       "4 -0.002592 -0.031988 -0.046641   135.0  "
      ]
     },
     "execution_count": 27,
     "metadata": {},
     "output_type": "execute_result"
    }
   ],
   "source": [
    "df = pd.DataFrame(X_stacked, columns=columns_df)\n",
    "df.head()"
   ]
  },
  {
   "cell_type": "code",
   "execution_count": 28,
   "metadata": {},
   "outputs": [],
   "source": [
    "# Apply Information Gain\n",
    "ig = mutual_info_regression(X, y)\n"
   ]
  },
  {
   "cell_type": "code",
   "execution_count": 34,
   "metadata": {},
   "outputs": [
    {
     "data": {
      "text/html": [
       "<style type=\"text/css\">\n",
       "#T_47766_row0_col0 {\n",
       "  width: 10em;\n",
       "  background: linear-gradient(90deg, #d65f5f 100.0%, transparent 100.0%);\n",
       "}\n",
       "#T_47766_row1_col0 {\n",
       "  width: 10em;\n",
       "  background: linear-gradient(90deg, #d65f5f 87.1%, transparent 87.1%);\n",
       "}\n",
       "#T_47766_row2_col0 {\n",
       "  width: 10em;\n",
       "  background: linear-gradient(90deg, #d65f5f 68.7%, transparent 68.7%);\n",
       "}\n",
       "#T_47766_row3_col0 {\n",
       "  width: 10em;\n",
       "  background: linear-gradient(90deg, #d65f5f 57.8%, transparent 57.8%);\n",
       "}\n",
       "#T_47766_row4_col0 {\n",
       "  width: 10em;\n",
       "  background: linear-gradient(90deg, #d65f5f 39.5%, transparent 39.5%);\n",
       "}\n",
       "#T_47766_row5_col0 {\n",
       "  width: 10em;\n",
       "  background: linear-gradient(90deg, #d65f5f 35.5%, transparent 35.5%);\n",
       "}\n",
       "#T_47766_row6_col0 {\n",
       "  width: 10em;\n",
       "  background: linear-gradient(90deg, #d65f5f 32.0%, transparent 32.0%);\n",
       "}\n",
       "#T_47766_row7_col0 {\n",
       "  width: 10em;\n",
       "  background: linear-gradient(90deg, #d65f5f 19.8%, transparent 19.8%);\n",
       "}\n",
       "#T_47766_row8_col0 {\n",
       "  width: 10em;\n",
       "  background: linear-gradient(90deg, #d65f5f 8.5%, transparent 8.5%);\n",
       "}\n",
       "#T_47766_row9_col0 {\n",
       "  width: 10em;\n",
       "}\n",
       "</style>\n",
       "<table id=\"T_47766\">\n",
       "  <thead>\n",
       "    <tr>\n",
       "      <th class=\"blank level0\" >&nbsp;</th>\n",
       "      <th id=\"T_47766_level0_col0\" class=\"col_heading level0 col0\" >Info_Gain</th>\n",
       "    </tr>\n",
       "    <tr>\n",
       "      <th class=\"index_name level0\" >Feature_Names</th>\n",
       "      <th class=\"blank col0\" >&nbsp;</th>\n",
       "    </tr>\n",
       "  </thead>\n",
       "  <tbody>\n",
       "    <tr>\n",
       "      <th id=\"T_47766_level0_row0\" class=\"row_heading level0 row0\" >bmi</th>\n",
       "      <td id=\"T_47766_row0_col0\" class=\"data row0 col0\" >0.172175</td>\n",
       "    </tr>\n",
       "    <tr>\n",
       "      <th id=\"T_47766_level0_row1\" class=\"row_heading level0 row1\" >s5</th>\n",
       "      <td id=\"T_47766_row1_col0\" class=\"data row1 col0\" >0.149907</td>\n",
       "    </tr>\n",
       "    <tr>\n",
       "      <th id=\"T_47766_level0_row2\" class=\"row_heading level0 row2\" >s6</th>\n",
       "      <td id=\"T_47766_row2_col0\" class=\"data row2 col0\" >0.118368</td>\n",
       "    </tr>\n",
       "    <tr>\n",
       "      <th id=\"T_47766_level0_row3\" class=\"row_heading level0 row3\" >s4</th>\n",
       "      <td id=\"T_47766_row3_col0\" class=\"data row3 col0\" >0.099466</td>\n",
       "    </tr>\n",
       "    <tr>\n",
       "      <th id=\"T_47766_level0_row4\" class=\"row_heading level0 row4\" >s1</th>\n",
       "      <td id=\"T_47766_row4_col0\" class=\"data row4 col0\" >0.068069</td>\n",
       "    </tr>\n",
       "    <tr>\n",
       "      <th id=\"T_47766_level0_row5\" class=\"row_heading level0 row5\" >s3</th>\n",
       "      <td id=\"T_47766_row5_col0\" class=\"data row5 col0\" >0.061103</td>\n",
       "    </tr>\n",
       "    <tr>\n",
       "      <th id=\"T_47766_level0_row6\" class=\"row_heading level0 row6\" >bp</th>\n",
       "      <td id=\"T_47766_row6_col0\" class=\"data row6 col0\" >0.055154</td>\n",
       "    </tr>\n",
       "    <tr>\n",
       "      <th id=\"T_47766_level0_row7\" class=\"row_heading level0 row7\" >sex</th>\n",
       "      <td id=\"T_47766_row7_col0\" class=\"data row7 col0\" >0.034117</td>\n",
       "    </tr>\n",
       "    <tr>\n",
       "      <th id=\"T_47766_level0_row8\" class=\"row_heading level0 row8\" >s2</th>\n",
       "      <td id=\"T_47766_row8_col0\" class=\"data row8 col0\" >0.014654</td>\n",
       "    </tr>\n",
       "    <tr>\n",
       "      <th id=\"T_47766_level0_row9\" class=\"row_heading level0 row9\" >age</th>\n",
       "      <td id=\"T_47766_row9_col0\" class=\"data row9 col0\" >0.000000</td>\n",
       "    </tr>\n",
       "  </tbody>\n",
       "</table>\n"
      ],
      "text/plain": [
       "<pandas.io.formats.style.Styler at 0x20fe2e07450>"
      ]
     },
     "execution_count": 34,
     "metadata": {},
     "output_type": "execute_result"
    }
   ],
   "source": [
    "df_ig = pd.DataFrame({'Feature_Names': data.feature_names, 'Info_Gain': ig}).set_index('Feature_Names')\n",
    "df_ig.sort_values('Info_Gain', ascending=False).style.bar()"
   ]
  },
  {
   "attachments": {},
   "cell_type": "markdown",
   "metadata": {},
   "source": [
    "Use a dictionairy to store the result of the info gain"
   ]
  },
  {
   "cell_type": "code",
   "execution_count": 39,
   "metadata": {},
   "outputs": [
    {
     "data": {
      "text/plain": [
       "{'age': 0.0,\n",
       " 'sex': 0.034116535497766165,\n",
       " 'bmi': 0.17217540855096347,\n",
       " 'bp': 0.055153769432680466,\n",
       " 's1': 0.06806858621367118,\n",
       " 's2': 0.014654068288125988,\n",
       " 's3': 0.0611031526351451,\n",
       " 's4': 0.09946611158865659,\n",
       " 's5': 0.14990671812336887,\n",
       " 's6': 0.11836776761423673}"
      ]
     },
     "execution_count": 39,
     "metadata": {},
     "output_type": "execute_result"
    }
   ],
   "source": [
    "feature_score = {data.feature_names[i]:ig[i] for i in range(len(ig))}\n",
    "feature_score\n"
   ]
  },
  {
   "cell_type": "code",
   "execution_count": 45,
   "metadata": {},
   "outputs": [
    {
     "name": "stdout",
     "output_type": "stream",
     "text": [
      "Feature:  bmi  Value:  0.17217540855096347\n",
      "Feature:  s5  Value:  0.14990671812336887\n",
      "Feature:  s6  Value:  0.11836776761423673\n",
      "Feature:  s4  Value:  0.09946611158865659\n",
      "Feature:  s1  Value:  0.06806858621367118\n",
      "Feature:  s3  Value:  0.0611031526351451\n",
      "Feature:  bp  Value:  0.055153769432680466\n",
      "Feature:  sex  Value:  0.034116535497766165\n",
      "Feature:  s2  Value:  0.014654068288125988\n",
      "Feature:  age  Value:  0.0\n"
     ]
    }
   ],
   "source": [
    "sorted_features = sorted(feature_score.items(), key=lambda x: x[1], reverse=True)\n",
    "for feature, value in sorted_features:\n",
    "    print('Feature: ', feature,' Value: ', value)"
   ]
  },
  {
   "cell_type": "code",
   "execution_count": 46,
   "metadata": {},
   "outputs": [
    {
     "data": {
      "image/png": "[encoded data removed]",
      "text/plain": [
       "<Figure size 640x480 with 1 Axes>"
      ]
     },
     "metadata": {},
     "output_type": "display_data"
    }
   ],
   "source": [
    "# Plot a horizontal bar chart of the feature importance scores\n",
    "fig, ax = plt.subplots()\n",
    "y_pos = np.arange(len(sorted_features))\n",
    "ax.barh(y_pos, [score for feature, score in sorted_features], align=\"center\")\n",
    "ax.set_yticks(y_pos)\n",
    "ax.set_yticklabels([feature for feature, score in sorted_features])\n",
    "ax.invert_yaxis()  # Labels read top-to-bottom\n",
    "ax.set_xlabel(\"Importance Score\")\n",
    "ax.set_title(\"Feature Importance Scores (Information Gain)\")\n",
    "\n",
    "# Add importance scores as labels on the horizontal bar chart\n",
    "for i, v in enumerate([score for feature, score in sorted_features]):\n",
    "    ax.text(v + 0.01, i, str(round(v, 3)), color=\"black\", fontweight=\"bold\")\n",
    "plt.show()"
   ]
  },
  {
   "attachments": {},
   "cell_type": "markdown",
   "metadata": {},
   "source": [
    "**Chi-Square**"
   ]
  },
  {
   "attachments": {},
   "cell_type": "markdown",
   "metadata": {},
   "source": [
    "While the Chi-square test is a commonly used feature selection method, it is typically used for categorical data, where the features and target variables are discrete."
   ]
  },
  {
   "attachments": {},
   "cell_type": "markdown",
   "metadata": {},
   "source": [
    "Code for Chi-Square is missing so far"
   ]
  },
  {
   "attachments": {},
   "cell_type": "markdown",
   "metadata": {},
   "source": [
    "**Fisher's Score**"
   ]
  },
  {
   "attachments": {},
   "cell_type": "markdown",
   "metadata": {},
   "source": [
    "Fisher's Discriminant Ratio, commonly known as Fisher's Score, is a feature selection approach that ranks features based on their ability to differentiate various classes in a dataset. It may be used for continuous features in a classification problem."
   ]
  },
  {
   "attachments": {},
   "cell_type": "markdown",
   "metadata": {},
   "source": [
    "Fisher's Score is calculated as the ratio of between-class and within-class variance. A higher Fisher's Score implies the characteristic is more discriminative and valuable for classification."
   ]
  },
  {
   "attachments": {},
   "cell_type": "markdown",
   "metadata": {},
   "source": [
    "## Wrapper Based Approach"
   ]
  },
  {
   "attachments": {},
   "cell_type": "markdown",
   "metadata": {},
   "source": [
    "- Forward Selection\n",
    "- Backward Selection\n",
    "- Exhaustive Feature Selection\n",
    "- Recursive Feature Elimination"
   ]
  },
  {
   "attachments": {},
   "cell_type": "markdown",
   "metadata": {},
   "source": [
    "**Forward Selection**"
   ]
  },
  {
   "attachments": {},
   "cell_type": "markdown",
   "metadata": {},
   "source": [
    "In forward selection, you start with an empty feature set and iteratively add features to the set. At each step, you evaluate the model's performance with the current feature set and the additional feature. The feature that results in the best performance improvement is added to the set."
   ]
  },
  {
   "cell_type": "code",
   "execution_count": 47,
   "metadata": {},
   "outputs": [
    {
     "ename": "ModuleNotFoundError",
     "evalue": "No module named 'mlxtend'",
     "output_type": "error",
     "traceback": [
      "\u001b[1;31m---------------------------------------------------------------------------\u001b[0m",
      "\u001b[1;31mModuleNotFoundError\u001b[0m                       Traceback (most recent call last)",
      "Cell \u001b[1;32mIn[47], line 6\u001b[0m\n\u001b[0;32m      4\u001b[0m \u001b[39mfrom\u001b[39;00m \u001b[39msklearn\u001b[39;00m\u001b[39m.\u001b[39;00m\u001b[39mlinear_model\u001b[39;00m \u001b[39mimport\u001b[39;00m LogisticRegression\n\u001b[0;32m      5\u001b[0m \u001b[39mfrom\u001b[39;00m \u001b[39msklearn\u001b[39;00m\u001b[39m.\u001b[39;00m\u001b[39mmodel_selection\u001b[39;00m \u001b[39mimport\u001b[39;00m train_test_split\n\u001b[1;32m----> 6\u001b[0m \u001b[39mfrom\u001b[39;00m \u001b[39mmlxtend\u001b[39;00m\u001b[39m.\u001b[39;00m\u001b[39mfeature_selection\u001b[39;00m \u001b[39mimport\u001b[39;00m SequentialFeatureSelector \u001b[39mas\u001b[39;00m SFS\n\u001b[0;32m      8\u001b[0m \u001b[39m# Load the breast cancer dataset\u001b[39;00m\n\u001b[0;32m      9\u001b[0m data \u001b[39m=\u001b[39m load_breast_cancer()\n",
      "\u001b[1;31mModuleNotFoundError\u001b[0m: No module named 'mlxtend'"
     ]
    }
   ],
   "source": [
    "import numpy as np\n",
    "import pandas as pd\n",
    "from sklearn.datasets import load_breast_cancer\n",
    "from sklearn.linear_model import LogisticRegression\n",
    "from sklearn.model_selection import train_test_split\n",
    "from mlxtend.feature_selection import SequentialFeatureSelector as SFS\n",
    "\n",
    "# Load the breast cancer dataset\n",
    "data = load_breast_cancer()\n",
    "\n",
    "# Split the dataset into features and target\n",
    "X = data.data\n",
    "y = data.target"
   ]
  },
  {
   "cell_type": "code",
   "execution_count": null,
   "metadata": {},
   "outputs": [],
   "source": []
  }
 ],
 "metadata": {
  "kernelspec": {
   "display_name": "DataScience",
   "language": "python",
   "name": "python3"
  },
  "language_info": {
   "codemirror_mode": {
    "name": "ipython",
    "version": 3
   },
   "file_extension": ".py",
   "mimetype": "text/x-python",
   "name": "python",
   "nbconvert_exporter": "python",
   "pygments_lexer": "ipython3",
   "version": "3.11.2"
  },
  "orig_nbformat": 4
 },
 "nbformat": 4,
 "nbformat_minor": 2
}

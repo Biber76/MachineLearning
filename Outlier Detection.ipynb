{
 "cells": [
  {
   "attachments": {},
   "cell_type": "markdown",
   "metadata": {},
   "source": [
    "# Several Examples for Detecting Outliers"
   ]
  },
  {
   "attachments": {},
   "cell_type": "markdown",
   "metadata": {},
   "source": [
    "## Elliptic Envelope"
   ]
  },
  {
   "cell_type": "code",
   "execution_count": 1,
   "metadata": {},
   "outputs": [
    {
     "data": {
      "text/plain": [
       "array([ 1, -1, -1,  1,  1,  1, -1, -1])"
      ]
     },
     "execution_count": 1,
     "metadata": {},
     "output_type": "execute_result"
    }
   ],
   "source": [
    "import numpy as np\n",
    "from sklearn.covariance import EllipticEnvelope\n",
    "\n",
    "# Create a sample normal distribution\n",
    "X = np.random.normal(loc=5, scale=2, size=50).reshape(-1, 1)\n",
    "\n",
    "# Fit the estimator\n",
    "ee = EllipticEnvelope(random_state=0)\n",
    "_ = ee.fit(X)\n",
    "\n",
    "# Test\n",
    "test = np.array([6, 8, 20, 4, 5, 6, 10, 13]).reshape(-1, 1)\n",
    "\n",
    "# predict returns 1 for an inlier and -1 for an outlier\n",
    "ee.predict(test)"
   ]
  },
  {
   "attachments": {},
   "cell_type": "markdown",
   "metadata": {},
   "source": [
    "## Isolation Forest"
   ]
  },
  {
   "cell_type": "code",
   "execution_count": 5,
   "metadata": {},
   "outputs": [
    {
     "data": {
      "text/plain": [
       "array([ 1,  1, -1])"
      ]
     },
     "execution_count": 5,
     "metadata": {},
     "output_type": "execute_result"
    }
   ],
   "source": [
    "import numpy as np\n",
    "from sklearn.ensemble import IsolationForest\n",
    "\n",
    "X = np.array([-1.1, 0.3, 0.5, 100]).reshape(-1, 1)\n",
    "\n",
    "clf = IsolationForest(random_state=0).fit(X)\n",
    "\n",
    "clf.predict([[0.1], [0], [90]])\n",
    "# array([ 1,  1, -1])"
   ]
  },
  {
   "cell_type": "code",
   "execution_count": null,
   "metadata": {},
   "outputs": [],
   "source": []
  }
 ],
 "metadata": {
  "kernelspec": {
   "display_name": "DataScience",
   "language": "python",
   "name": "python3"
  },
  "language_info": {
   "codemirror_mode": {
    "name": "ipython",
    "version": 3
   },
   "file_extension": ".py",
   "mimetype": "text/x-python",
   "name": "python",
   "nbconvert_exporter": "python",
   "pygments_lexer": "ipython3",
   "version": "3.11.2"
  },
  "orig_nbformat": 4
 },
 "nbformat": 4,
 "nbformat_minor": 2
}
